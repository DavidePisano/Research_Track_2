{
 "cells": [
  {
   "cell_type": "markdown",
   "id": "5268fd89",
   "metadata": {},
   "source": [
    "Define all the import necessary for the assignment"
   ]
  },
  {
   "cell_type": "code",
   "execution_count": null,
   "id": "ff522db1",
   "metadata": {},
   "outputs": [],
   "source": [
    "%matplotlib notebook\n",
    "\n",
    "import jupyros as jr\n",
    "import rospy\n",
    "import time\n",
    "import actionlib\n",
    "import actionlib.msg\n",
    "import assignment_2_2022.msg\n",
    "import assignment_2_2022\n",
    "import sys\n",
    "import select\n",
    "import math\n",
    "import numpy as np\n",
    "import ipywidgets as widgets\n",
    "import matplotlib.pyplot as plt\n",
    "\n",
    "from std_srvs.srv import *\n",
    "from nav_msgs.msg import Odometry\n",
    "from geometry_msgs.msg import Point, Pose, Twist\n",
    "from assignment_2_2022.msg import Position_vel\n",
    "from sensor_msgs.msg import LaserScan\n",
    "from matplotlib.animation import FuncAnimation"
   ]
  },
  {
   "cell_type": "markdown",
   "id": "52f0d1f5",
   "metadata": {},
   "source": [
    "Define the value of the variable cancel_goal & goal_service"
   ]
  },
  {
   "cell_type": "code",
   "execution_count": null,
   "id": "3b5b285b",
   "metadata": {},
   "outputs": [],
   "source": [
    "cancel_goal = False\n",
    "goal_service = None"
   ]
  },
  {
   "cell_type": "markdown",
   "id": "4624510a",
   "metadata": {},
   "source": [
    "Now defines a function `publishVal` that extracts position and velocity information from `msg` and pubblish a custom message."
   ]
  },
  {
   "cell_type": "code",
   "execution_count": null,
   "id": "7d67e37a",
   "metadata": {},
   "outputs": [],
   "source": [
    "def publishVal(msg):\n",
    "    # recall the global publisher as pub\n",
    "    global pub\n",
    "    \n",
    "    # initialize the postion and the velocity from the message\n",
    "    pos = msg.pose.pose.position\n",
    "    velocity = msg.twist.twist.linear\n",
    "\n",
    "    # Initialize a custom message\n",
    "    pos_velox = Position_vel()\n",
    "\n",
    "    # assign the parameters of the custom message (pos_velox)\n",
    "    pos_velox.x = pos.x\n",
    "    pos_velox.y = pos.y\n",
    "    pos_velox.velX = velocity.x\n",
    "    pos_velox.velY = velocity.y\n",
    "\n",
    "    # Publish the custom message\n",
    "    pub.publish(pos_velox)"
   ]
  },
  {
   "cell_type": "markdown",
   "id": "d5f5e084",
   "metadata": {},
   "source": [
    "Buttons for Selecting Modes:"
   ]
  },
  {
   "cell_type": "code",
   "execution_count": null,
   "id": "2253ad38",
   "metadata": {},
   "outputs": [],
   "source": [
    "send_goal_button = widgets.Button(value = False, description = \"Target Position\", disabled = False, button_style = '')\n",
    "\n",
    "cancel_goal_button = widgets.Button(value = False, description = \"Cancel Position\", disabled = False, button_style = '')"
   ]
  },
  {
   "cell_type": "markdown",
   "id": "dd13fbcf",
   "metadata": {},
   "source": [
    "Implement the numeric widgets `x` e `y`:"
   ]
  },
  {
   "cell_type": "code",
   "execution_count": null,
   "id": "3a3ac176",
   "metadata": {},
   "outputs": [],
   "source": [
    "x = widgets.BoundedFloatText(value = 0.0, description = 'x', min = -9.0, max = 9.0, \n",
    "                            style = {'description_width': 'initial'}, step = 0.1, \n",
    "                            layout = widgets.Layout(width = '100px'))\n",
    "y = widgets.BoundedFloatText(value = 0.0, description = 'y', min = -9.0, max = 9.0,\n",
    "                            style = {'description_width': 'initial'}, step = 0.1, \n",
    "                            layout = widgets.Layout(width = '100px'))"
   ]
  },
  {
   "cell_type": "markdown",
   "id": "faf92060",
   "metadata": {},
   "source": [
    "Then we have to create the callback functions related to the buttons:"
   ]
  },
  {
   "cell_type": "code",
   "execution_count": null,
   "id": "4c921a6f",
   "metadata": {},
   "outputs": [],
   "source": [
    "def clb_send(msg):\n",
    "    global cancel_goal, goal_service\n",
    "    goal_service = assignment_2_2022.msg.PlanningGoal()\n",
    "    goal_service.target_pose.pose.position.x = x.value\n",
    "    goal_service.target_pose.pose.position.y = y.value\n",
    "    cancel_goal = False\n",
    "    client.send_goal(goal_service)\n",
    "    \n",
    "def clb_cancel(msg):\n",
    "    global cancel_goal, goal_service\n",
    "    goal_service = None\n",
    "    cancel_goal = True\n",
    "    client.cancel_goal()"
   ]
  },
  {
   "cell_type": "markdown",
   "id": "3b058f38",
   "metadata": {},
   "source": [
    "These two lines of code connect the button widgets to their respective callback functions."
   ]
  },
  {
   "cell_type": "code",
   "execution_count": null,
   "id": "be03c54d",
   "metadata": {},
   "outputs": [],
   "source": [
    "send_goal_button.on_click(clb_send)\n",
    "cancel_goal_button.on_click(clb_cancel)"
   ]
  },
  {
   "cell_type": "markdown",
   "id": "55b3a5a9",
   "metadata": {},
   "source": [
    "Create the function and the widget for the `PositionVisualizer`:"
   ]
  },
  {
   "cell_type": "code",
   "execution_count": null,
   "id": "d35d55cc",
   "metadata": {},
   "outputs": [],
   "source": [
    "class PositionVisualizer:\n",
    "    def __init__(self):\n",
    "        self.fig, self.ax = plt.subplots()\n",
    "        # Robot Position Plot\n",
    "        self.ln, = plt.plot([], [], 'ro', label = 'Robot Position')\n",
    "        # Target's Position Plot\n",
    "        self.goal_ln, = plt.plot([], [], 'b*', markersize = 10, label = 'Robot Goal Position')\n",
    "        # Robot's Position Data Arrays\n",
    "        self.x_data, self.y_data = [], []\n",
    "        \n",
    "    def plot_init(self):\n",
    "        # Set Plot Title\n",
    "        self.ax.set_title(\"Robot Odometry\", fontsize = 20, fontweight = 'bold')\n",
    "        # Set Plot Axis Labels\n",
    "        self.ax.set_xlabel(\"X [m]\", fontsize = 10, fontweight = \"bold\")\n",
    "        self.ax.set_ylabel(\"Y [m]\", fontsize = 10, fontweight = \"bold\")\n",
    "        # Set Plot Axis Limits\n",
    "        self.ax.set_xlim(-20, 20)\n",
    "        self.ax.set_ylim(-20, 20)\n",
    "        # Set Grid to True\n",
    "        self.ax.grid(True)\n",
    "        \n",
    "        return self.ln, self.goal_ln\n",
    "    \n",
    "    def odom_callback(self, msg):\n",
    "        # Callback Function used to update data\n",
    "        self.y_data.append(msg.pose.pose.position.y)\n",
    "        self.x_data.append(msg.pose.pose.position.x)         \n",
    "        \n",
    "    def update_plot(self, frame):\n",
    "        # Update Robot's Position on plot\n",
    "        self.ln.set_data(self.x_data, self.y_data)  \n",
    "        \n",
    "        # If the goal is cancelled, remove the red marker\n",
    "        if cancel_goal: \n",
    "            self.goal_ln.set_data([], [])\n",
    "        # If the goal exists, set the red marker\n",
    "        elif goal_service is not None:\n",
    "            self.goal_ln.set_data(goal_service.target_pose.pose.position.x, goal_service.target_pose.pose.position.y)\n",
    "        else:\n",
    "            self.goal_ln.set_data([], [])\n",
    "        \n",
    "        return self.ln, self.goal_ln"
   ]
  },
  {
   "cell_type": "markdown",
   "id": "74dc3b8f",
   "metadata": {},
   "source": [
    "Create the function and the widget for the `Goal_Visualizer`, for plotting the Reached/Cancelled Goals:"
   ]
  },
  {
   "cell_type": "code",
   "execution_count": null,
   "id": "36571d88",
   "metadata": {},
   "outputs": [],
   "source": [
    "class Goal_Visualizer:\n",
    "    def __init__(self):\n",
    "        self.fig, self.ax = plt.subplots()\n",
    "        # Setting up the values\n",
    "        self.reached = 0\n",
    "        self.cancelled = 0\n",
    "        # Set Plot Title\n",
    "        self.ax.set_title(\"Reached/Cancelled Goals\", fontsize = 20, fontweight = \"bold\")\n",
    "        \n",
    "        self.ax.grid(axis = 'y', color = 'grey', linestyle = '-', alpha = 0.5)\n",
    "        # Set Plot Labels on x-axis\n",
    "        self.labels = ('Reached', 'Cancelled')\n",
    "        self.x_pos = np.arange(len(self.labels))\n",
    "        self.ax.set_xticks(self.x_pos)\n",
    "        self.ax.set_xticklabels(self.labels)\n",
    "        # Set Plot Axis Limits\n",
    "        self.ax.set_ylim([0, 10])\n",
    "        self.ax.set_yticks(np.arange(0, 11, 1))\n",
    "        self.bar_colors = ['green', 'red']\n",
    "        self.bar_plot = self.ax.bar(self.x_pos, [self.reached, self.cancelled], align = 'center', color = self.bar_colors, width = 0.2)\n",
    "\n",
    "    # Get the number of reached/cancelled goals\n",
    "    def goal_callback(self, msg):\n",
    "        global goals_cancelled, goals_reached\n",
    "        self.reached += (msg.status.status == 3)\n",
    "        self.cancelled += (msg.status.status == 2) \n",
    "\n",
    "    def update_plot(self, frame):\n",
    "        \n",
    "        for i, bar in enumerate(self.bar_plot):\n",
    "            if i == 0:\n",
    "                bar.set_height(self.reached)\n",
    "            else:\n",
    "                bar.set_height(self.cancelled)\n",
    "            bar.set_color(self.bar_colors[i])\n",
    "        return self.bar_plot"
   ]
  },
  {
   "cell_type": "markdown",
   "id": "caff4e05",
   "metadata": {},
   "source": [
    "Create the function and the widget for the `Laser_Visualizer`:"
   ]
  },
  {
   "cell_type": "code",
   "execution_count": null,
   "id": "9a54c3f8",
   "metadata": {},
   "outputs": [],
   "source": [
    "class Laser_Visualizer:\n",
    "    def __init__(self):\n",
    "        self.fig = plt.figure(figsize = (6,6))\n",
    "        self.ax = plt.subplot(111, polar = True)\n",
    "        self.ax.set_thetalim(-np.pi/2, np.pi/2)\n",
    "        self.ax.set_theta_zero_location(\"N\")\n",
    "        self.laser = []\n",
    "        self.angles = []\n",
    "        self.ln, = self.ax.plot([], [], 'bo')\n",
    "        \n",
    "    def plot_init(self):\n",
    "        # Set Plot Title and Plot Y Label\n",
    "        self.ax.set_title(\"Robot Laser Scan\", fontsize = 20, fontweight = 'bold')\n",
    "        self.ax.set_ylabel(\"Wall Distance\", fontsize = 10, fontweight = \"bold\")\n",
    "        # Set the Grid\n",
    "        self.ax.grid(True)\n",
    "        return self.ln\n",
    "    \n",
    "    # Callback Function used to update data\n",
    "    def laser_callback(self, msg):\n",
    "        self.angles = list(np.arange(msg.angle_min, msg.angle_max + msg.angle_increment, msg.angle_increment))\n",
    "        self.laser = list(msg.ranges)\n",
    "        \n",
    "    def update_plot(self, frame):\n",
    "        self.ax.set_rmax(20)\n",
    "        self.ln.set_data(self.angles, self.laser)  \n",
    "        return self.ln"
   ]
  },
  {
   "cell_type": "markdown",
   "id": "11fda793",
   "metadata": {},
   "source": [
    "Now we initialize all the remaining part of code like node, subscriber, publisher and client:"
   ]
  },
  {
   "cell_type": "code",
   "execution_count": null,
   "id": "7ba90221",
   "metadata": {},
   "outputs": [],
   "source": [
    "rospy.init_node('action_client_jupy')\n",
    "\n",
    "pub = rospy.Publisher(\"/Position_velocity\", Position_vel, queue_size = 1)\n",
    "\n",
    "client = actionlib.SimpleActionClient('/reaching_goal', assignment_2_2022.msg.PlanningAction)\n",
    "\n",
    "client.wait_for_server()\n",
    "\n",
    "# Initialize the goals reached/cancelled\n",
    "goals_cancelled = 0\n",
    "goals_reached = 0"
   ]
  },
  {
   "cell_type": "markdown",
   "id": "d99229f6",
   "metadata": {},
   "source": [
    "For last we visualize all the widged we create before:"
   ]
  },
  {
   "cell_type": "code",
   "execution_count": null,
   "id": "f7747f23",
   "metadata": {},
   "outputs": [],
   "source": [
    "# Set the target position and send/cancell the goal position:\n",
    "\n",
    "display(widgets.HBox([x, y]))\n",
    "display(widgets.HBox([send_goal_button, cancel_goal_button]))"
   ]
  },
  {
   "cell_type": "code",
   "execution_count": null,
   "id": "0fddb489",
   "metadata": {},
   "outputs": [],
   "source": [
    "# Plot the robot position:\n",
    "\n",
    "position_visualizer = PositionVisualizer() \n",
    "sub = rospy.Subscriber('/odom', Odometry, position_visualizer.odom_callback)\n",
    "\n",
    "animation_pos = FuncAnimation(position_visualizer.fig, position_visualizer.update_plot, init_func = position_visualizer.plot_init)\n",
    "plt.show(block = True)"
   ]
  },
  {
   "cell_type": "code",
   "execution_count": null,
   "id": "1f981c37",
   "metadata": {},
   "outputs": [],
   "source": [
    "# Plot the number of cancelled/reached goals:\n",
    "\n",
    "visualize_goals = Goal_Visualizer()\n",
    "results = rospy.Subscriber('/reaching_goal/result', assignment_2_2022.msg.PlanningActionResult, visualize_goals.goal_callback)\n",
    "\n",
    "animation_goal = FuncAnimation(visualize_goals.fig, visualize_goals.update_plot, interval = 1000)\n",
    "plt.show(block = True)"
   ]
  },
  {
   "cell_type": "code",
   "execution_count": null,
   "id": "3e1c1ba2",
   "metadata": {},
   "outputs": [],
   "source": [
    "# Plot the laser:\n",
    "\n",
    "laser_visualizer = Laser_Visualizer()\n",
    "sub = rospy.Subscriber('/scan', LaserScan, laser_visualizer.laser_callback)\n",
    "\n",
    "animation_laser = FuncAnimation(laser_visualizer.fig, laser_visualizer.update_plot, init_func = laser_visualizer.plot_init)\n",
    "plt.show(block = True)"
   ]
  }
 ],
 "metadata": {
  "kernelspec": {
   "display_name": "Python 3 (ipykernel)",
   "language": "python",
   "name": "python3"
  },
  "language_info": {
   "codemirror_mode": {
    "name": "ipython",
    "version": 3
   },
   "file_extension": ".py",
   "mimetype": "text/x-python",
   "name": "python",
   "nbconvert_exporter": "python",
   "pygments_lexer": "ipython3",
   "version": "3.8.5"
  }
 },
 "nbformat": 4,
 "nbformat_minor": 5
}
